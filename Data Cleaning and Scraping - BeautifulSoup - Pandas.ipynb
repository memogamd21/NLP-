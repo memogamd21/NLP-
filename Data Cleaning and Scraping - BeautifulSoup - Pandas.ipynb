{
 "cells": [
  {
   "cell_type": "markdown",
   "metadata": {},
   "source": [
    "# Part 1 Pandas Review"
   ]
  },
  {
   "cell_type": "code",
   "execution_count": 1,
   "metadata": {},
   "outputs": [],
   "source": [
    "import pandas as pd\n",
    "import numpy as np"
   ]
  },
  {
   "cell_type": "code",
   "execution_count": 3,
   "metadata": {},
   "outputs": [
    {
     "name": "stdout",
     "output_type": "stream",
     "text": [
      "     First  Second  Third\n",
      "1st     11      12     13\n",
      "2nd     14      15     16\n"
     ]
    }
   ],
   "source": [
    "#Creating DataFrame from list\n",
    "x = [[11,12,13],[14,15,16]]\n",
    "df = pd.DataFrame(x,index=['1st','2nd'], columns=['First','Second','Third'])\n",
    "print(df)"
   ]
  },
  {
   "cell_type": "code",
   "execution_count": 4,
   "metadata": {},
   "outputs": [
    {
     "data": {
      "text/plain": [
       "pandas.core.indexes.base.Index"
      ]
     },
     "execution_count": 4,
     "metadata": {},
     "output_type": "execute_result"
    }
   ],
   "source": [
    "type(df.index)"
   ]
  },
  {
   "cell_type": "code",
   "execution_count": 5,
   "metadata": {},
   "outputs": [
    {
     "name": "stdout",
     "output_type": "stream",
     "text": [
      "1st    11\n",
      "2nd    14\n",
      "Name: First, dtype: int64\n",
      "\n",
      "     First  Second  Third  Fourth\n",
      "1st     11      12     13      45\n",
      "2nd     14      15     16      46\n",
      "\n",
      "     First  Second  Third  Fourth  Sum of 1st & 2nd\n",
      "1st     11      12     13      45                23\n",
      "2nd     14      15     16      46                29\n",
      "\n",
      "     First  Third  Fourth  Sum of 1st & 2nd\n",
      "1st     11     13      45                23\n",
      "2nd     14     16      46                29\n"
     ]
    }
   ],
   "source": [
    "#Column Selection, Addition and Deletion\n",
    "print(df['First']) #Selection\n",
    "print(\"\")\n",
    "df['Fourth'] = pd.Series([45,46],index=df.index) #Addition\n",
    "print(df)\n",
    "print(\"\")\n",
    "df['Sum of 1st & 2nd'] = df['First']+df['Second'] #Addition relating exsiting columns\n",
    "print(df)\n",
    "print(\"\")\n",
    "del df['Second'] #Deletion\n",
    "print(df)"
   ]
  },
  {
   "cell_type": "code",
   "execution_count": 6,
   "metadata": {},
   "outputs": [
    {
     "name": "stdout",
     "output_type": "stream",
     "text": [
      "First     11\n",
      "Second    12\n",
      "Third     13\n",
      "Name: 1st, dtype: int64\n",
      "\n",
      "First     11\n",
      "Second    12\n",
      "Third     13\n",
      "Name: 1st, dtype: int64\n",
      "\n",
      "     First  Second  Third\n",
      "1st     11      12     13\n",
      "2nd     14      15     16\n",
      "1st    100     101    102\n",
      "4th    201     202    203\n",
      "\n",
      "     First  Second  Third\n",
      "1st     11      12     13\n",
      "2nd     14      15     16\n",
      "1st    100     101    102\n",
      "4th    201     202    203\n"
     ]
    }
   ],
   "source": [
    "#Row Selection, Addition and Deletion\n",
    "x = [[11,12,13],[14,15,16]]\n",
    "df = pd.DataFrame(x,index=['1st','2nd'], columns=['First','Second','Third'])\n",
    "print(df.loc['1st']) #Selection\n",
    "print(\"\")\n",
    "print(df.iloc[0])#Selection with index number\n",
    "print(\"\")\n",
    "df2 = pd.DataFrame([[100,101,102],[201,202,203]],index = ['1st','4th'],columns=['First','Second','Third'])\n",
    "df = df.append(df2)\n",
    "print(df)\n",
    "print(\"\")\n",
    "#df = df.drop('3rd')\n",
    "print(df)"
   ]
  },
  {
   "cell_type": "code",
   "execution_count": 7,
   "metadata": {},
   "outputs": [
    {
     "name": "stdout",
     "output_type": "stream",
     "text": [
      "  index  First  Second  Third\n",
      "0   1st     11      12     13\n",
      "1   2nd     14      15     16\n",
      "2   1st    100     101    102\n",
      "3   4th    201     202    203\n",
      "   First  Second  Third\n",
      "0     11      12     13\n",
      "1     14      15     16\n",
      "2    100     101    102\n",
      "3    201     202    203\n"
     ]
    }
   ],
   "source": [
    "df = df.reset_index()\n",
    "print(df.head())\n",
    "del df['index']\n",
    "print(df.head())"
   ]
  },
  {
   "cell_type": "code",
   "execution_count": 8,
   "metadata": {},
   "outputs": [
    {
     "name": "stdout",
     "output_type": "stream",
     "text": [
      "   Height  Weight        Result\n",
      "0     140      90  not accepted\n",
      "1     190      88      accepted\n",
      "2     174      81      accepted\n",
      "3     183     130  not accepted\n",
      "4     168      72      accepted\n",
      "\n",
      "   Height  Weight  Result\n",
      "0     140      90       0\n",
      "1     190      88       1\n",
      "2     174      81       1\n",
      "3     183     130       0\n",
      "4     168      72       1\n"
     ]
    }
   ],
   "source": [
    "#Replacing data\n",
    "data = [[140,90,'not accepted'],[190,88,'accepted'],[174,81,'accepted'],[183,130,'not accepted'],[168,72,'accepted']]\n",
    "df = pd.DataFrame(data ,columns=['Height','Weight','Result'])\n",
    "print(df)\n",
    "print(\"\")\n",
    "df['Result'].replace(['not accepted','accepted'],[0,1],inplace=True)\n",
    "# use apply for more complex mapping with either lambda or defined functions i.e. weights<90 vs weights>90\n",
    "print(df)"
   ]
  },
  {
   "cell_type": "code",
   "execution_count": 9,
   "metadata": {},
   "outputs": [],
   "source": [
    "height_tf = lambda x: 'tall' if x>180 else 'short'\n",
    "def height_tf(x):\n",
    "    if x>180:\n",
    "        return 'tall'\n",
    "    else:\n",
    "        return 'short'"
   ]
  },
  {
   "cell_type": "code",
   "execution_count": 10,
   "metadata": {},
   "outputs": [
    {
     "data": {
      "text/html": [
       "<div>\n",
       "<style scoped>\n",
       "    .dataframe tbody tr th:only-of-type {\n",
       "        vertical-align: middle;\n",
       "    }\n",
       "\n",
       "    .dataframe tbody tr th {\n",
       "        vertical-align: top;\n",
       "    }\n",
       "\n",
       "    .dataframe thead th {\n",
       "        text-align: right;\n",
       "    }\n",
       "</style>\n",
       "<table border=\"1\" class=\"dataframe\">\n",
       "  <thead>\n",
       "    <tr style=\"text-align: right;\">\n",
       "      <th></th>\n",
       "      <th>Height</th>\n",
       "      <th>Weight</th>\n",
       "      <th>Result</th>\n",
       "    </tr>\n",
       "  </thead>\n",
       "  <tbody>\n",
       "    <tr>\n",
       "      <th>0</th>\n",
       "      <td>short</td>\n",
       "      <td>90</td>\n",
       "      <td>0</td>\n",
       "    </tr>\n",
       "    <tr>\n",
       "      <th>1</th>\n",
       "      <td>tall</td>\n",
       "      <td>88</td>\n",
       "      <td>1</td>\n",
       "    </tr>\n",
       "    <tr>\n",
       "      <th>2</th>\n",
       "      <td>short</td>\n",
       "      <td>81</td>\n",
       "      <td>1</td>\n",
       "    </tr>\n",
       "    <tr>\n",
       "      <th>3</th>\n",
       "      <td>tall</td>\n",
       "      <td>130</td>\n",
       "      <td>0</td>\n",
       "    </tr>\n",
       "    <tr>\n",
       "      <th>4</th>\n",
       "      <td>short</td>\n",
       "      <td>72</td>\n",
       "      <td>1</td>\n",
       "    </tr>\n",
       "  </tbody>\n",
       "</table>\n",
       "</div>"
      ],
      "text/plain": [
       "  Height  Weight  Result\n",
       "0  short      90       0\n",
       "1   tall      88       1\n",
       "2  short      81       1\n",
       "3   tall     130       0\n",
       "4  short      72       1"
      ]
     },
     "execution_count": 10,
     "metadata": {},
     "output_type": "execute_result"
    }
   ],
   "source": [
    "df['Height'] = df['Height'].apply(height_tf)\n",
    "df.head()"
   ]
  },
  {
   "cell_type": "code",
   "execution_count": 11,
   "metadata": {},
   "outputs": [
    {
     "name": "stdout",
     "output_type": "stream",
     "text": [
      "[['short' 90 0]\n",
      " ['tall' 88 1]\n",
      " ['short' 81 1]\n",
      " ['tall' 130 0]\n",
      " ['short' 72 1]]\n"
     ]
    }
   ],
   "source": [
    "#Converting from DataFrame to NumPy array\n",
    "df_array = df.values\n",
    "print(df_array)"
   ]
  },
  {
   "cell_type": "markdown",
   "metadata": {},
   "source": [
    "# part 2: Scrapping\n",
    "\n",
    "\n",
    "\n"
   ]
  },
  {
   "cell_type": "code",
   "execution_count": 12,
   "metadata": {},
   "outputs": [],
   "source": [
    "import requests\n",
    "from bs4 import BeautifulSoup\n",
    "import spacy\n",
    "import nltk"
   ]
  },
  {
   "cell_type": "code",
   "execution_count": 13,
   "metadata": {},
   "outputs": [],
   "source": [
    "res = requests.get('http://quotes.toscrape.com/')"
   ]
  },
  {
   "cell_type": "code",
   "execution_count": 14,
   "metadata": {},
   "outputs": [],
   "source": [
    "soup = BeautifulSoup(res.text,'lxml')"
   ]
  },
  {
   "cell_type": "code",
   "execution_count": 16,
   "metadata": {},
   "outputs": [],
   "source": [
    "quotes = soup.find_all('div',{'class':'quote'}) # quotes here is a list of Tags (work with them as soups)"
   ]
  },
  {
   "cell_type": "code",
   "execution_count": 17,
   "metadata": {},
   "outputs": [],
   "source": [
    "q = []\n",
    "for quote in quotes:\n",
    "    quote_txt = quote.find('span',{'class':'text'})\n",
    "    author = quote.find('small',{'class':'author'})\n",
    "    tags = quote.find_all('a',{'class':'tag'})\n",
    "    tag = [t.text for t in tags]\n",
    "    q.append({'quote':quote_txt.text, 'author':author.text, 'tags':tag})"
   ]
  },
  {
   "cell_type": "code",
   "execution_count": 18,
   "metadata": {},
   "outputs": [
    {
     "data": {
      "text/html": [
       "<div>\n",
       "<style scoped>\n",
       "    .dataframe tbody tr th:only-of-type {\n",
       "        vertical-align: middle;\n",
       "    }\n",
       "\n",
       "    .dataframe tbody tr th {\n",
       "        vertical-align: top;\n",
       "    }\n",
       "\n",
       "    .dataframe thead th {\n",
       "        text-align: right;\n",
       "    }\n",
       "</style>\n",
       "<table border=\"1\" class=\"dataframe\">\n",
       "  <thead>\n",
       "    <tr style=\"text-align: right;\">\n",
       "      <th></th>\n",
       "      <th>author</th>\n",
       "      <th>quote</th>\n",
       "      <th>tags</th>\n",
       "    </tr>\n",
       "  </thead>\n",
       "  <tbody>\n",
       "    <tr>\n",
       "      <th>0</th>\n",
       "      <td>Albert Einstein</td>\n",
       "      <td>“The world as we have created it is a process ...</td>\n",
       "      <td>[change, deep-thoughts, thinking, world]</td>\n",
       "    </tr>\n",
       "    <tr>\n",
       "      <th>1</th>\n",
       "      <td>J.K. Rowling</td>\n",
       "      <td>“It is our choices, Harry, that show what we t...</td>\n",
       "      <td>[abilities, choices]</td>\n",
       "    </tr>\n",
       "    <tr>\n",
       "      <th>2</th>\n",
       "      <td>Albert Einstein</td>\n",
       "      <td>“There are only two ways to live your life. On...</td>\n",
       "      <td>[inspirational, life, live, miracle, miracles]</td>\n",
       "    </tr>\n",
       "    <tr>\n",
       "      <th>3</th>\n",
       "      <td>Jane Austen</td>\n",
       "      <td>“The person, be it gentleman or lady, who has ...</td>\n",
       "      <td>[aliteracy, books, classic, humor]</td>\n",
       "    </tr>\n",
       "    <tr>\n",
       "      <th>4</th>\n",
       "      <td>Marilyn Monroe</td>\n",
       "      <td>“Imperfection is beauty, madness is genius and...</td>\n",
       "      <td>[be-yourself, inspirational]</td>\n",
       "    </tr>\n",
       "  </tbody>\n",
       "</table>\n",
       "</div>"
      ],
      "text/plain": [
       "            author                                              quote  \\\n",
       "0  Albert Einstein  “The world as we have created it is a process ...   \n",
       "1     J.K. Rowling  “It is our choices, Harry, that show what we t...   \n",
       "2  Albert Einstein  “There are only two ways to live your life. On...   \n",
       "3      Jane Austen  “The person, be it gentleman or lady, who has ...   \n",
       "4   Marilyn Monroe  “Imperfection is beauty, madness is genius and...   \n",
       "\n",
       "                                             tags  \n",
       "0        [change, deep-thoughts, thinking, world]  \n",
       "1                            [abilities, choices]  \n",
       "2  [inspirational, life, live, miracle, miracles]  \n",
       "3              [aliteracy, books, classic, humor]  \n",
       "4                    [be-yourself, inspirational]  "
      ]
     },
     "execution_count": 18,
     "metadata": {},
     "output_type": "execute_result"
    }
   ],
   "source": [
    "dataset = pd.DataFrame(data = q)\n",
    "dataset.head()"
   ]
  },
  {
   "cell_type": "code",
   "execution_count": 21,
   "metadata": {},
   "outputs": [
    {
     "ename": "OSError",
     "evalue": "[E050] Can't find model 'en'. It doesn't seem to be a shortcut link, a Python package or a valid path to a data directory.",
     "output_type": "error",
     "traceback": [
      "\u001b[1;31m---------------------------------------------------------------------------\u001b[0m",
      "\u001b[1;31mOSError\u001b[0m                                   Traceback (most recent call last)",
      "\u001b[1;32m<ipython-input-21-76abff010c5f>\u001b[0m in \u001b[0;36m<module>\u001b[1;34m()\u001b[0m\n\u001b[1;32m----> 1\u001b[1;33m \u001b[0mnlp\u001b[0m \u001b[1;33m=\u001b[0m \u001b[0mspacy\u001b[0m\u001b[1;33m.\u001b[0m\u001b[0mload\u001b[0m\u001b[1;33m(\u001b[0m\u001b[1;34m'en'\u001b[0m\u001b[1;33m)\u001b[0m\u001b[1;33m\u001b[0m\u001b[0m\n\u001b[0m",
      "\u001b[1;32mC:\\Users\\pc\\Anaconda3\\lib\\site-packages\\spacy\\__init__.py\u001b[0m in \u001b[0;36mload\u001b[1;34m(name, **overrides)\u001b[0m\n\u001b[0;32m     19\u001b[0m     \u001b[1;32mif\u001b[0m \u001b[0mdepr_path\u001b[0m \u001b[1;32mnot\u001b[0m \u001b[1;32min\u001b[0m \u001b[1;33m(\u001b[0m\u001b[1;32mTrue\u001b[0m\u001b[1;33m,\u001b[0m \u001b[1;32mFalse\u001b[0m\u001b[1;33m,\u001b[0m \u001b[1;32mNone\u001b[0m\u001b[1;33m)\u001b[0m\u001b[1;33m:\u001b[0m\u001b[1;33m\u001b[0m\u001b[0m\n\u001b[0;32m     20\u001b[0m         \u001b[0mdeprecation_warning\u001b[0m\u001b[1;33m(\u001b[0m\u001b[0mWarnings\u001b[0m\u001b[1;33m.\u001b[0m\u001b[0mW001\u001b[0m\u001b[1;33m.\u001b[0m\u001b[0mformat\u001b[0m\u001b[1;33m(\u001b[0m\u001b[0mpath\u001b[0m\u001b[1;33m=\u001b[0m\u001b[0mdepr_path\u001b[0m\u001b[1;33m)\u001b[0m\u001b[1;33m)\u001b[0m\u001b[1;33m\u001b[0m\u001b[0m\n\u001b[1;32m---> 21\u001b[1;33m     \u001b[1;32mreturn\u001b[0m \u001b[0mutil\u001b[0m\u001b[1;33m.\u001b[0m\u001b[0mload_model\u001b[0m\u001b[1;33m(\u001b[0m\u001b[0mname\u001b[0m\u001b[1;33m,\u001b[0m \u001b[1;33m**\u001b[0m\u001b[0moverrides\u001b[0m\u001b[1;33m)\u001b[0m\u001b[1;33m\u001b[0m\u001b[0m\n\u001b[0m\u001b[0;32m     22\u001b[0m \u001b[1;33m\u001b[0m\u001b[0m\n\u001b[0;32m     23\u001b[0m \u001b[1;33m\u001b[0m\u001b[0m\n",
      "\u001b[1;32mC:\\Users\\pc\\Anaconda3\\lib\\site-packages\\spacy\\util.py\u001b[0m in \u001b[0;36mload_model\u001b[1;34m(name, **overrides)\u001b[0m\n\u001b[0;32m    117\u001b[0m     \u001b[1;32melif\u001b[0m \u001b[0mhasattr\u001b[0m\u001b[1;33m(\u001b[0m\u001b[0mname\u001b[0m\u001b[1;33m,\u001b[0m \u001b[1;34m'exists'\u001b[0m\u001b[1;33m)\u001b[0m\u001b[1;33m:\u001b[0m  \u001b[1;31m# Path or Path-like to model data\u001b[0m\u001b[1;33m\u001b[0m\u001b[0m\n\u001b[0;32m    118\u001b[0m         \u001b[1;32mreturn\u001b[0m \u001b[0mload_model_from_path\u001b[0m\u001b[1;33m(\u001b[0m\u001b[0mname\u001b[0m\u001b[1;33m,\u001b[0m \u001b[1;33m**\u001b[0m\u001b[0moverrides\u001b[0m\u001b[1;33m)\u001b[0m\u001b[1;33m\u001b[0m\u001b[0m\n\u001b[1;32m--> 119\u001b[1;33m     \u001b[1;32mraise\u001b[0m \u001b[0mIOError\u001b[0m\u001b[1;33m(\u001b[0m\u001b[0mErrors\u001b[0m\u001b[1;33m.\u001b[0m\u001b[0mE050\u001b[0m\u001b[1;33m.\u001b[0m\u001b[0mformat\u001b[0m\u001b[1;33m(\u001b[0m\u001b[0mname\u001b[0m\u001b[1;33m=\u001b[0m\u001b[0mname\u001b[0m\u001b[1;33m)\u001b[0m\u001b[1;33m)\u001b[0m\u001b[1;33m\u001b[0m\u001b[0m\n\u001b[0m\u001b[0;32m    120\u001b[0m \u001b[1;33m\u001b[0m\u001b[0m\n\u001b[0;32m    121\u001b[0m \u001b[1;33m\u001b[0m\u001b[0m\n",
      "\u001b[1;31mOSError\u001b[0m: [E050] Can't find model 'en'. It doesn't seem to be a shortcut link, a Python package or a valid path to a data directory."
     ]
    }
   ],
   "source": [
    "nlp = spacy.load('en')"
   ]
  },
  {
   "cell_type": "code",
   "execution_count": 20,
   "metadata": {},
   "outputs": [
    {
     "ename": "NameError",
     "evalue": "name 'nlp' is not defined",
     "output_type": "error",
     "traceback": [
      "\u001b[1;31m---------------------------------------------------------------------------\u001b[0m",
      "\u001b[1;31mNameError\u001b[0m                                 Traceback (most recent call last)",
      "\u001b[1;32m<ipython-input-20-cd03490aa96e>\u001b[0m in \u001b[0;36m<module>\u001b[1;34m()\u001b[0m\n\u001b[0;32m      2\u001b[0m \u001b[1;32mfor\u001b[0m \u001b[0mi\u001b[0m\u001b[1;33m,\u001b[0m \u001b[0mq\u001b[0m \u001b[1;32min\u001b[0m \u001b[0menumerate\u001b[0m\u001b[1;33m(\u001b[0m\u001b[0mdataset\u001b[0m\u001b[1;33m[\u001b[0m\u001b[1;34m'quote'\u001b[0m\u001b[1;33m]\u001b[0m\u001b[1;33m)\u001b[0m\u001b[1;33m:\u001b[0m\u001b[1;33m\u001b[0m\u001b[0m\n\u001b[0;32m      3\u001b[0m     \u001b[1;32mfor\u001b[0m \u001b[0mq2\u001b[0m \u001b[1;32min\u001b[0m \u001b[0mdataset\u001b[0m\u001b[1;33m[\u001b[0m\u001b[1;34m'quote'\u001b[0m\u001b[1;33m]\u001b[0m\u001b[1;33m:\u001b[0m\u001b[1;33m\u001b[0m\u001b[0m\n\u001b[1;32m----> 4\u001b[1;33m         \u001b[0mscore\u001b[0m\u001b[1;33m[\u001b[0m\u001b[0mi\u001b[0m\u001b[1;33m]\u001b[0m \u001b[1;33m+=\u001b[0m \u001b[0mnlp\u001b[0m\u001b[1;33m(\u001b[0m\u001b[0mq\u001b[0m\u001b[1;33m)\u001b[0m\u001b[1;33m.\u001b[0m\u001b[0msimilarity\u001b[0m\u001b[1;33m(\u001b[0m\u001b[0mnlp\u001b[0m\u001b[1;33m(\u001b[0m\u001b[0mq2\u001b[0m\u001b[1;33m)\u001b[0m\u001b[1;33m)\u001b[0m\u001b[1;33m\u001b[0m\u001b[0m\n\u001b[0m\u001b[0;32m      5\u001b[0m     \u001b[0mscore\u001b[0m\u001b[1;33m[\u001b[0m\u001b[0mi\u001b[0m\u001b[1;33m]\u001b[0m \u001b[1;33m-=\u001b[0m \u001b[1;36m1\u001b[0m \u001b[1;31m# because q.similarity(q) = 1 (doesn't make a difference)\u001b[0m\u001b[1;33m\u001b[0m\u001b[0m\n",
      "\u001b[1;31mNameError\u001b[0m: name 'nlp' is not defined"
     ]
    }
   ],
   "source": [
    "score = np.zeros(len(dataset['quote']), dtype = np.float32)\n",
    "for i, q in enumerate(dataset['quote']):\n",
    "    for q2 in dataset['quote']:\n",
    "        score[i] += nlp(q).similarity(nlp(q2))\n",
    "    score[i] -= 1 # because q.similarity(q) = 1 (doesn't make a difference)"
   ]
  },
  {
   "cell_type": "code",
   "execution_count": 48,
   "metadata": {},
   "outputs": [
    {
     "name": "stdout",
     "output_type": "stream",
     "text": [
      "(0,)\n"
     ]
    }
   ],
   "source": [
    "# unravel_index here has no use but it is important when score is multi-dimensional\n",
    "most_similar = np.unravel_index(np.argmax(score,axis = None),score.shape)\n",
    "print(most_similar)"
   ]
  },
  {
   "cell_type": "markdown",
   "metadata": {},
   "source": [
    "# Extra Spacy"
   ]
  },
  {
   "cell_type": "code",
   "execution_count": 86,
   "metadata": {},
   "outputs": [
    {
     "name": "stdout",
     "output_type": "stream",
     "text": [
      "word         root         POS     Tags   Shape  Is Stop\n",
      "“            \"            PUNCT   ``     “      0   \n",
      "The          the          DET     DT     Xxx    0   \n",
      "world        world        NOUN    NN     xxxx   0   \n",
      "as           as           ADP     IN     xx     1   \n",
      "we           -PRON-       PRON    PRP    xx     1   \n",
      "have         have         VERB    VBP    xxxx   1   \n",
      "created      create       VERB    VBN    xxxx   0   \n",
      "it           -PRON-       PRON    PRP    xx     1   \n",
      "is           be           VERB    VBZ    xx     1   \n",
      "a            a            DET     DT     x      1   \n",
      "process      process      NOUN    NN     xxxx   0   \n",
      "of           of           ADP     IN     xx     1   \n",
      "our          -PRON-       ADJ     PRP$   xxx    1   \n",
      "thinking     thinking     NOUN    NN     xxxx   0   \n",
      ".            .            PUNCT   .      .      0   \n",
      "It           -PRON-       PRON    PRP    Xx     0   \n",
      "can          can          VERB    MD     xxx    1   \n",
      "not          not          ADV     RB     xxx    1   \n",
      "be           be           VERB    VB     xx     1   \n",
      "changed      change       VERB    VBN    xxxx   0   \n",
      "without      without      ADP     IN     xxxx   1   \n",
      "changing     change       VERB    VBG    xxxx   0   \n",
      "our          -PRON-       ADJ     PRP$   xxx    1   \n",
      "thinking     thinking     NOUN    NN     xxxx   0   \n",
      ".            .            PUNCT   .      .      0   \n",
      "”            \"            PUNCT   ''     ”      0   \n"
     ]
    }
   ],
   "source": [
    "# some of spacy's token attributes\n",
    "fw = 12\n",
    "sen = nlp(dataset['quote'].iloc[0])\n",
    "print(f\"{'word':{fw}} {'root':{fw}} {'POS':{fw-5}} {'Tags':{fw-6}} {'Shape':{fw-6}} {'Is Stop':{fw-8}}\")\n",
    "for t in sen:\n",
    "        print(f\"{t.text:{fw}} {t.lemma_:{fw}} {t.pos_:{fw-5}} {t.tag_:{fw-6}} {t.shape_:{fw-6}} {t.is_stop:<{fw-8}}\")\n",
    "        \n",
    "# full documentation here\n",
    "# https://spacy.io/api/token"
   ]
  },
  {
   "cell_type": "code",
   "execution_count": 71,
   "metadata": {},
   "outputs": [
    {
     "data": {
      "text/plain": [
       "'noun, singular or mass'"
      ]
     },
     "execution_count": 71,
     "metadata": {},
     "output_type": "execute_result"
    }
   ],
   "source": [
    "spacy.explain('NN')"
   ]
  },
  {
   "cell_type": "code",
   "execution_count": 72,
   "metadata": {},
   "outputs": [
    {
     "name": "stdout",
     "output_type": "stream",
     "text": [
      "\n",
      "    Serving on port 5000...\n",
      "    Using the 'dep' visualizer\n",
      "\n"
     ]
    },
    {
     "name": "stderr",
     "output_type": "stream",
     "text": [
      "127.0.0.1 - - [07/Feb/2019 00:47:43] \"GET / HTTP/1.1\" 200 16094\n",
      "127.0.0.1 - - [07/Feb/2019 00:47:44] \"GET /favicon.ico HTTP/1.1\" 200 16094\n"
     ]
    },
    {
     "name": "stdout",
     "output_type": "stream",
     "text": [
      "\n",
      "    Shutting down server on port 5000.\n",
      "\n"
     ]
    }
   ],
   "source": [
    "from spacy import displacy\n",
    "displacy.serve(sen, style='dep') # ent"
   ]
  }
 ],
 "metadata": {
  "kernelspec": {
   "display_name": "Python 3",
   "language": "python",
   "name": "python3"
  },
  "language_info": {
   "codemirror_mode": {
    "name": "ipython",
    "version": 3
   },
   "file_extension": ".py",
   "mimetype": "text/x-python",
   "name": "python",
   "nbconvert_exporter": "python",
   "pygments_lexer": "ipython3",
   "version": "3.7.4"
  }
 },
 "nbformat": 4,
 "nbformat_minor": 2
}
