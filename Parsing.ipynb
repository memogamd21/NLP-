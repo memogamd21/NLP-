{
 "cells": [
  {
   "cell_type": "code",
   "execution_count": null,
   "metadata": {},
   "outputs": [],
   "source": [
    "## References:\n",
    "\n",
    "# https://www.cs.bgu.ac.il/~elhadad/nlp16/NLTK-PCFG.html\n",
    "# http://www.nltk.org/book/ch08-extras.html\n",
    "# http://www.nltk.org/howto/parse.html"
   ]
  },
  {
   "cell_type": "code",
   "execution_count": null,
   "metadata": {},
   "outputs": [],
   "source": [
    "import warnings\n",
    "warnings.simplefilter(action='ignore', category=FutureWarning)"
   ]
  },
  {
   "cell_type": "code",
   "execution_count": null,
   "metadata": {},
   "outputs": [],
   "source": [
    "import nltk\n",
    "import nltk.corpus"
   ]
  },
  {
   "cell_type": "code",
   "execution_count": null,
   "metadata": {},
   "outputs": [],
   "source": [
    "nltk.corpus.treebank.fileids()"
   ]
  },
  {
   "cell_type": "code",
   "execution_count": null,
   "metadata": {},
   "outputs": [],
   "source": [
    "from nltk.corpus import treebank\n",
    "print(treebank.words('wsj_0007.mrg'))\n",
    "print(treebank.tagged_words('wsj_0007.mrg'))\n",
    "print(treebank.parsed_sents('wsj_0007.mrg')[2])"
   ]
  },
  {
   "cell_type": "code",
   "execution_count": null,
   "metadata": {},
   "outputs": [],
   "source": [
    "# Dealing with parsed sentences {they are nltk.Tree}\n",
    "treebank.parsed_sents('wsj_0007.mrg')[2].draw()\n",
    "treebank.parsed_sents('wsj_0007.mrg')[2].productions()"
   ]
  },
  {
   "cell_type": "code",
   "execution_count": null,
   "metadata": {},
   "outputs": [],
   "source": [
    "# parsed sentences are Trees\n",
    "\n",
    "from nltk import Tree\n",
    "\n",
    "# Parse a tree from a string with parentheses.\n",
    "s = '(S (NP (DT the) (NN cat)) (VP (VBD ate) (NP (DT a) (NN cookie))))'\n",
    "t = Tree.fromstring(s)\n",
    "print(t)\n",
    "t.draw()\n",
    "print(\"Display tree properties:\")\n",
    "print(t.label())   # tree's constituent type\n",
    "print(t[0]) # tree's first child\n",
    "print(t[1]) # tree's second child\n",
    "print(t.height())\n",
    "print(t.leaves())\n",
    "print(t[1])\n",
    "print(t[1,1])\n",
    "print(t[1,1,0])"
   ]
  },
  {
   "cell_type": "code",
   "execution_count": null,
   "metadata": {},
   "outputs": [],
   "source": [
    "t.productions()"
   ]
  },
  {
   "cell_type": "code",
   "execution_count": null,
   "metadata": {},
   "outputs": [],
   "source": [
    "# Demonstrate tree modification.\n",
    "the_cat = t[0]\n",
    "the_cat.insert(1, Tree.fromstring('(JJ big)'))\n",
    "print(\"Tree modification:\")\n",
    "print(t)\n",
    "t[1,1,1] = Tree.fromstring('(NN cake)')\n",
    "print(t)"
   ]
  },
  {
   "cell_type": "code",
   "execution_count": null,
   "metadata": {},
   "outputs": [],
   "source": [
    "# Tree transforms\n",
    "print(\"Collapse unary:\")\n",
    "t.collapse_unary()\n",
    "print(t)\n",
    "print(\"Chomsky normal form:\")\n",
    "t.chomsky_normal_form()\n",
    "print(t)"
   ]
  },
  {
   "cell_type": "code",
   "execution_count": null,
   "metadata": {},
   "outputs": [],
   "source": [
    "# Demonstrate probabilistic trees.\n",
    "pt = nltk.tree.ProbabilisticTree('x', ['y', 'z'], prob=0.5)\n",
    "print(\"Probabilistic Tree:\")\n",
    "print(pt)\n",
    "pt.draw()"
   ]
  },
  {
   "cell_type": "code",
   "execution_count": null,
   "metadata": {},
   "outputs": [],
   "source": [
    "## Grammar tools\n",
    "import nltk\n",
    "from nltk import Nonterminal, nonterminals, Production, CFG\n",
    "nonterminal1 = Nonterminal('NP')\n",
    "nonterminal2 = Nonterminal('VP')\n",
    "nonterminal3 = Nonterminal('PP')\n",
    "print(nonterminal1.symbol())\n",
    "print(nonterminal2.symbol())\n",
    "print(nonterminal1==nonterminal2)\n",
    "S, NP, VP, PP = nonterminals('S, NP, VP, PP') ## use nonterminals to generate a list \n",
    "N, V, P, DT = nonterminals('N, V, P, DT')\n",
    "production1 = Production(S, [NP, VP])\n",
    "production2 = Production(NP, [DT, NP])\n",
    "production3 = Production(VP, [V, NP,NP,PP])\n",
    "print(production1.lhs())\n",
    "print(production1.rhs())\n",
    "print(production3 == Production(VP, [V,NP,NP,PP]))"
   ]
  },
  {
   "cell_type": "code",
   "execution_count": null,
   "metadata": {},
   "outputs": [],
   "source": [
    "nltk.download('large_grammars')"
   ]
  },
  {
   "cell_type": "code",
   "execution_count": null,
   "metadata": {},
   "outputs": [],
   "source": [
    "### ATIS grammer\n",
    "import nltk\n",
    "gram1 = nltk.data.load('grammars/large_grammars/atis.cfg')\n",
    "gram1\n",
    "grammar.check_coverage(['a'])"
   ]
  },
  {
   "cell_type": "code",
   "execution_count": null,
   "metadata": {},
   "outputs": [],
   "source": [
    "print(gram1)"
   ]
  },
  {
   "cell_type": "code",
   "execution_count": null,
   "metadata": {},
   "outputs": [],
   "source": [
    "## Two kinds of parsers; Normal with CFG and Probabilistic with PCFG. Normal can accept PCFG but won't use probabilities"
   ]
  },
  {
   "cell_type": "code",
   "execution_count": null,
   "metadata": {},
   "outputs": [],
   "source": [
    "## BottomUpLeftCornerChartParser, LeftCornerChartParser, TopDownChartParser, IncrementalBottomUpChartParser\n",
    "sent = nltk.data.load('grammars/large_grammars/atis_sentences.txt')\n",
    "sent = nltk.parse.util.extract_test_sentences(sent)\n",
    "testingsent=sent[25]\n",
    "sent=testingsent[0]\n",
    "parser1 = nltk.parse.EarleyChartParser(gram1)\n",
    "chart1 = parser1.chart_parse(sent)\n",
    "print((chart1.num_edges()))\n",
    "print((len(list(chart1.parses(gram1.start())))))"
   ]
  },
  {
   "cell_type": "code",
   "execution_count": null,
   "metadata": {},
   "outputs": [],
   "source": [
    "### parser.parse() returns generator\n",
    "chart1 = parser1.parse(sent)\n",
    "next(chart1)"
   ]
  },
  {
   "cell_type": "code",
   "execution_count": null,
   "metadata": {},
   "outputs": [],
   "source": [
    "chart1 = parser1.parse(sent)\n",
    "print(chart1)\n",
    "parsed_sents = list(chart1)\n",
    "print(chart1)"
   ]
  },
  {
   "cell_type": "code",
   "execution_count": null,
   "metadata": {},
   "outputs": [],
   "source": [
    "print(parsed_sents[0])"
   ]
  },
  {
   "cell_type": "code",
   "execution_count": null,
   "metadata": {},
   "outputs": [],
   "source": [
    "parsed_sents[0].draw()"
   ]
  },
  {
   "cell_type": "code",
   "execution_count": null,
   "metadata": {},
   "outputs": [],
   "source": [
    "nltk.parse.chart.demo(5, print_times=False, trace=1, sent='I saw John with a dog', numparses=2)"
   ]
  },
  {
   "cell_type": "code",
   "execution_count": null,
   "metadata": {},
   "outputs": [],
   "source": [
    "### PCFG\n",
    "# https://www.nltk.org/api/nltk.parse.html#module-nltk.parse.pchart"
   ]
  },
  {
   "cell_type": "code",
   "execution_count": null,
   "metadata": {},
   "outputs": [],
   "source": [
    "from nltk.grammar import PCFG, induce_pcfg, toy_pcfg1, toy_pcfg2\n",
    "# nltk.parse_pcfg not working\n",
    "grammar = PCFG.fromstring(\"\"\"\n",
    "A -> B B [.3] | C B C [.7]\n",
    "B -> B D [.5] | C [.5]\n",
    "C -> 'a' [.1] | 'b' [0.9]\n",
    "D -> 'b' [1.0]\n",
    "\"\"\")\n",
    "grammar.productions()"
   ]
  },
  {
   "cell_type": "code",
   "execution_count": null,
   "metadata": {},
   "outputs": [],
   "source": [
    "# get grammer from parsed sentences\n",
    "from nltk import Nonterminal\n",
    "\n",
    "productions = []\n",
    "for fileid in treebank.fileids()[:2]:\n",
    "    for t in treebank.parsed_sents(fileid):\n",
    "        productions += t.productions()\n",
    "grammar = induce_pcfg(Nonterminal('S'), productions)"
   ]
  },
  {
   "cell_type": "code",
   "execution_count": null,
   "metadata": {},
   "outputs": [],
   "source": [
    "print(grammar)"
   ]
  },
  {
   "cell_type": "code",
   "execution_count": null,
   "metadata": {},
   "outputs": [],
   "source": [
    "sorted(grammar.productions(lhs=Nonterminal('PP')))[:2]"
   ]
  },
  {
   "cell_type": "code",
   "execution_count": null,
   "metadata": {},
   "outputs": [],
   "source": [
    "sorted(grammar.productions(lhs=Nonterminal('NNP')))[:2]"
   ]
  },
  {
   "cell_type": "code",
   "execution_count": null,
   "metadata": {},
   "outputs": [],
   "source": [
    "tokens = \"Jack saw Bob with my cookie\".split()\n",
    "grammar = toy_pcfg2\n",
    "print(grammar)"
   ]
  },
  {
   "cell_type": "code",
   "execution_count": null,
   "metadata": {},
   "outputs": [],
   "source": [
    "from nltk.parse import pchart\n",
    "parser = pchart.InsideChartParser(grammar)\n",
    "for t in parser.parse(tokens):\n",
    "    print(t)\n",
    "### try RandomChartParser, UnsortedChartParser, LongestChartParser"
   ]
  },
  {
   "cell_type": "code",
   "execution_count": null,
   "metadata": {},
   "outputs": [],
   "source": [
    "parser = nltk.parse.EarleyChartParser(grammar)\n",
    "for t in parser.parse(tokens):\n",
    "    print(t)"
   ]
  },
  {
   "cell_type": "code",
   "execution_count": null,
   "metadata": {},
   "outputs": [],
   "source": [
    "### CYK parser gets the most probable parse\n",
    "from nltk.parse import ViterbiParser\n",
    "\n",
    "parser = ViterbiParser(grammar)\n",
    "parser.trace(3)\n",
    "parsed_sent = list(parser.parse_all(tokens)) # to convert generator to list\n",
    "parsed_sent[0].draw()\n",
    "for t in parsed_sent:\n",
    "    print(t)"
   ]
  },
  {
   "cell_type": "code",
   "execution_count": null,
   "metadata": {},
   "outputs": [],
   "source": [
    "### CYK parser gets the most probable parse\n",
    "from nltk.parse import ViterbiParser\n",
    "\n",
    "parser = ViterbiParser(grammar)\n",
    "parser.trace(3)\n",
    "parsed_sent = list(parser.parse(tokens)) # to convert generator to list\n",
    "parsed_sent[0].draw()\n",
    "for t in parsed_sent:\n",
    "    print(t)"
   ]
  },
  {
   "cell_type": "code",
   "execution_count": null,
   "metadata": {},
   "outputs": [],
   "source": []
  }
 ],
 "metadata": {
  "kernelspec": {
   "display_name": "Python 3",
   "language": "python",
   "name": "python3"
  },
  "language_info": {
   "codemirror_mode": {
    "name": "ipython",
    "version": 3
   },
   "file_extension": ".py",
   "mimetype": "text/x-python",
   "name": "python",
   "nbconvert_exporter": "python",
   "pygments_lexer": "ipython3",
   "version": "3.7.4"
  }
 },
 "nbformat": 4,
 "nbformat_minor": 2
}
